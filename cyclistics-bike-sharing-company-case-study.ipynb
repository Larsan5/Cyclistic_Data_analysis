{
 "cells": [
  {
   "cell_type": "markdown",
   "id": "c571ffdb",
   "metadata": {
    "_cell_guid": "b1076dfc-b9ad-4769-8c92-a6c4dae69d19",
    "_uuid": "8f2839f25d086af736a60e9eeb907d3b93b6e0e5",
    "papermill": {
     "duration": 0.007058,
     "end_time": "2023-03-22T02:32:11.852771",
     "exception": false,
     "start_time": "2023-03-22T02:32:11.845713",
     "status": "completed"
    },
    "tags": []
   },
   "source": [
    "# **Cyclistics-Bike Sharing Company**\n",
    "\n",
    "The Following is the Case study of Fictional Company Named Cyclistics. This case study is a part of the Google data analytics Certificate course.This course provides a vast knowledge about Data Analysis and skills needed to effectively analyze any business problem and provide data/facts backed insights.They also provide Hands On experience for various tools available,\n",
    "\n",
    "* Microsoft Excel\n",
    "* BigQuery(SQL Language) \n",
    "* R studio\n",
    "* Tableau\n",
    "\n",
    "Here I am utilizing few of the tools that are available for data analysis like Microsoft Excel, R Studio(R programming language) and Tableau.\n"
   ]
  },
  {
   "cell_type": "markdown",
   "id": "893e53a9",
   "metadata": {
    "papermill": {
     "duration": 0.005178,
     "end_time": "2023-03-22T02:32:11.863947",
     "exception": false,
     "start_time": "2023-03-22T02:32:11.858769",
     "status": "completed"
    },
    "tags": []
   },
   "source": [
    "## Table of Contents\n",
    "1. **[About the Company](#section1)**\n",
    "2. **[Business Task](#section2)**\n",
    "3. **[Data Preparation](#section3)**\n",
    "4. **[Data Processing](#section4)**\n",
    "5. **[Analysis and Visualization](#section5)**\n",
    "6. **[Findings and Insights](#section6)**"
   ]
  },
  {
   "cell_type": "markdown",
   "id": "957d10bd",
   "metadata": {
    "papermill": {
     "duration": 0.005219,
     "end_time": "2023-03-22T02:32:11.874364",
     "exception": false,
     "start_time": "2023-03-22T02:32:11.869145",
     "status": "completed"
    },
    "tags": []
   },
   "source": [
    "<a id=\"section1\">About the Company</a1>  \n",
    " Cyclistics is a bike sharing company based on Chicago started in 2016. Now the company has grown to a fleet of 5800 plus bicycles that are geotracked and  locked into a network of more than 690 stations across Chicago.The Customers of the company can avail the service through the following methods.\n",
    "* Single Ride passes, \n",
    "* Full-day Ride passes\n",
    "* Annual membership"
   ]
  },
  {
   "cell_type": "markdown",
   "id": "0ca0c7dc",
   "metadata": {
    "papermill": {
     "duration": 0.005079,
     "end_time": "2023-03-22T02:32:11.884531",
     "exception": false,
     "start_time": "2023-03-22T02:32:11.879452",
     "status": "completed"
    },
    "tags": []
   },
   "source": [
    "<a id=\"section2\"></a>\n",
    "# Business Task\n",
    "The company is now looking for new marketing strategy for increasing their profits .The finance analysts have concluded that the Annual Members are more profitable than Casual riders(single ride and full day ride passes).\n",
    "\n",
    "Our business task at hand is to convert casual riders into membership riders through marketing campaign. Hence its necessary to understand how both riders differs and their behaviour.\n",
    "\n",
    "Our target question: How do annual members and casual riders use Cyclistic bikes differently?\n"
   ]
  },
  {
   "cell_type": "markdown",
   "id": "63373794",
   "metadata": {
    "papermill": {
     "duration": 0.004998,
     "end_time": "2023-03-22T02:32:11.894666",
     "exception": false,
     "start_time": "2023-03-22T02:32:11.889668",
     "status": "completed"
    },
    "tags": []
   },
   "source": [
    "<a id =\"section3\" ></a>\n",
    "# Data Preparation\n",
    "In order to understand the behaviour of the rider, We are going to analyse the data that are available internally in our database. We have obtained the monthly data of riders trip for the year 2022 for our analysis.\n",
    "The data provides the following attributes,\n",
    "* Ride ID\n",
    "* Rideable type - Electric / Classic bike\n",
    "* Start and End Date of the trip\n",
    "* Start and End Station Name with Id \n",
    "    Their Latitude and Longitute\n",
    "* Rider Type - Member / Casual\n",
    "\n",
    "Since the data is obtained from the company,it is relaible and original.This data will answer the question that will help us to create a marketing strategy.\n",
    "\n",
    "Note : The data has been made available by Motivate International Inc. under this [license](https://ride.divvybikes.com/data-license-agreement)"
   ]
  },
  {
   "cell_type": "markdown",
   "id": "7d17a886",
   "metadata": {
    "papermill": {
     "duration": 0.005057,
     "end_time": "2023-03-22T02:32:11.904816",
     "exception": false,
     "start_time": "2023-03-22T02:32:11.899759",
     "status": "completed"
    },
    "tags": []
   },
   "source": [
    "<a id=\"section4\" ></a>\n",
    "# Data Processing\n",
    "Now we have to process and clean the data for analysing the data.The Data that we have obtained is monthly data for the year of 2022 each month as a separate csv file.\n",
    "\n",
    "Using Microsoft Excel, We can understand the general idea of the data and datatypes of the variables. We can also try to use PowerQuery option in Excel to append all the 12 files and process the data.But the appended data will exceed the row limitation in Excel.\n",
    "\n",
    "Hence I have selected R Studio(R language) for cleaning and processing of the data."
   ]
  },
  {
   "cell_type": "code",
   "execution_count": 1,
   "id": "36f6775c",
   "metadata": {
    "execution": {
     "iopub.execute_input": "2023-03-22T02:32:11.920119Z",
     "iopub.status.busy": "2023-03-22T02:32:11.917433Z",
     "iopub.status.idle": "2023-03-22T02:32:13.522454Z",
     "shell.execute_reply": "2023-03-22T02:32:13.520574Z"
    },
    "papermill": {
     "duration": 1.615794,
     "end_time": "2023-03-22T02:32:13.525624",
     "exception": false,
     "start_time": "2023-03-22T02:32:11.909830",
     "status": "completed"
    },
    "tags": []
   },
   "outputs": [
    {
     "name": "stderr",
     "output_type": "stream",
     "text": [
      "── \u001b[1mAttaching packages\u001b[22m ─────────────────────────────────────── tidyverse 1.3.2 ──\n",
      "\u001b[32m✔\u001b[39m \u001b[34mggplot2\u001b[39m 3.4.0      \u001b[32m✔\u001b[39m \u001b[34mpurrr  \u001b[39m 1.0.1 \n",
      "\u001b[32m✔\u001b[39m \u001b[34mtibble \u001b[39m 3.1.8      \u001b[32m✔\u001b[39m \u001b[34mdplyr  \u001b[39m 1.0.10\n",
      "\u001b[32m✔\u001b[39m \u001b[34mtidyr  \u001b[39m 1.2.1      \u001b[32m✔\u001b[39m \u001b[34mstringr\u001b[39m 1.5.0 \n",
      "\u001b[32m✔\u001b[39m \u001b[34mreadr  \u001b[39m 2.1.3      \u001b[32m✔\u001b[39m \u001b[34mforcats\u001b[39m 0.5.2 \n",
      "── \u001b[1mConflicts\u001b[22m ────────────────────────────────────────── tidyverse_conflicts() ──\n",
      "\u001b[31m✖\u001b[39m \u001b[34mdplyr\u001b[39m::\u001b[32mfilter()\u001b[39m masks \u001b[34mstats\u001b[39m::filter()\n",
      "\u001b[31m✖\u001b[39m \u001b[34mdplyr\u001b[39m::\u001b[32mlag()\u001b[39m    masks \u001b[34mstats\u001b[39m::lag()\n",
      "\n",
      "Attaching package: ‘data.table’\n",
      "\n",
      "\n",
      "The following objects are masked from ‘package:dplyr’:\n",
      "\n",
      "    between, first, last\n",
      "\n",
      "\n",
      "The following object is masked from ‘package:purrr’:\n",
      "\n",
      "    transpose\n",
      "\n",
      "\n",
      "Loading required package: timechange\n",
      "\n",
      "\n",
      "Attaching package: ‘lubridate’\n",
      "\n",
      "\n",
      "The following objects are masked from ‘package:data.table’:\n",
      "\n",
      "    hour, isoweek, mday, minute, month, quarter, second, wday, week,\n",
      "    yday, year\n",
      "\n",
      "\n",
      "The following objects are masked from ‘package:base’:\n",
      "\n",
      "    date, intersect, setdiff, union\n",
      "\n",
      "\n"
     ]
    }
   ],
   "source": [
    "#Install and load the required packages.\n",
    "library(tidyverse) \n",
    "library(dplyr)\n",
    "library(ggplot2)\n",
    "library(data.table)\n",
    "library(lubridate)"
   ]
  },
  {
   "cell_type": "markdown",
   "id": "154505f2",
   "metadata": {
    "papermill": {
     "duration": 0.005858,
     "end_time": "2023-03-22T02:32:13.537750",
     "exception": false,
     "start_time": "2023-03-22T02:32:13.531892",
     "status": "completed"
    },
    "tags": []
   },
   "source": [
    "After Loading the required Packages, I have set the working directory for uploading the datasets and for exporting the cleaned data.\n",
    "\n",
    "Now we will import the 12 csv files each corresponding to the months using \"data.table\" Package and fread function into a single dataframe named \"trip_year_2022\" by using map_df function."
   ]
  },
  {
   "cell_type": "code",
   "execution_count": 2,
   "id": "697640eb",
   "metadata": {
    "execution": {
     "iopub.execute_input": "2023-03-22T02:32:13.591542Z",
     "iopub.status.busy": "2023-03-22T02:32:13.551422Z",
     "iopub.status.idle": "2023-03-22T02:32:52.806581Z",
     "shell.execute_reply": "2023-03-22T02:32:52.804527Z"
    },
    "papermill": {
     "duration": 39.265871,
     "end_time": "2023-03-22T02:32:52.809497",
     "exception": false,
     "start_time": "2023-03-22T02:32:13.543626",
     "status": "completed"
    },
    "tags": []
   },
   "outputs": [
    {
     "name": "stdout",
     "output_type": "stream",
     "text": [
      "Classes ‘data.table’ and 'data.frame':\t5667717 obs. of  13 variables:\n",
      " $ ride_id           : chr  \"C2F7DD78E82EC875\" \"A6CF8980A652D272\" \"BD0F91DFF741C66D\" \"CBB80ED419105406\" ...\n",
      " $ rideable_type     : chr  \"electric_bike\" \"electric_bike\" \"classic_bike\" \"classic_bike\" ...\n",
      " $ started_at        : POSIXct, format: \"2022-01-13 11:59:47\" \"2022-01-10 08:41:56\" ...\n",
      " $ ended_at          : POSIXct, format: \"2022-01-13 12:02:44\" \"2022-01-10 08:46:17\" ...\n",
      " $ start_station_name: chr  \"Glenwood Ave & Touhy Ave\" \"Glenwood Ave & Touhy Ave\" \"Sheffield Ave & Fullerton Ave\" \"Clark St & Bryn Mawr Ave\" ...\n",
      " $ start_station_id  : chr  \"525\" \"525\" \"TA1306000016\" \"KA1504000151\" ...\n",
      " $ end_station_name  : chr  \"Clark St & Touhy Ave\" \"Clark St & Touhy Ave\" \"Greenview Ave & Fullerton Ave\" \"Paulina St & Montrose Ave\" ...\n",
      " $ end_station_id    : chr  \"RP-007\" \"RP-007\" \"TA1307000001\" \"TA1309000021\" ...\n",
      " $ start_lat         : num  42 42 41.9 42 41.9 ...\n",
      " $ start_lng         : num  -87.7 -87.7 -87.7 -87.7 -87.6 ...\n",
      " $ end_lat           : num  42 42 41.9 42 41.9 ...\n",
      " $ end_lng           : num  -87.7 -87.7 -87.7 -87.7 -87.6 ...\n",
      " $ member_casual     : chr  \"casual\" \"casual\" \"member\" \"casual\" ...\n",
      " - attr(*, \".internal.selfref\")=<externalptr> \n"
     ]
    },
    {
     "data": {
      "text/html": [
       "<table class=\"dataframe\">\n",
       "<caption>A data.table: 6 × 13</caption>\n",
       "<thead>\n",
       "\t<tr><th scope=col>ride_id</th><th scope=col>rideable_type</th><th scope=col>started_at</th><th scope=col>ended_at</th><th scope=col>start_station_name</th><th scope=col>start_station_id</th><th scope=col>end_station_name</th><th scope=col>end_station_id</th><th scope=col>start_lat</th><th scope=col>start_lng</th><th scope=col>end_lat</th><th scope=col>end_lng</th><th scope=col>member_casual</th></tr>\n",
       "\t<tr><th scope=col>&lt;chr&gt;</th><th scope=col>&lt;chr&gt;</th><th scope=col>&lt;dttm&gt;</th><th scope=col>&lt;dttm&gt;</th><th scope=col>&lt;chr&gt;</th><th scope=col>&lt;chr&gt;</th><th scope=col>&lt;chr&gt;</th><th scope=col>&lt;chr&gt;</th><th scope=col>&lt;dbl&gt;</th><th scope=col>&lt;dbl&gt;</th><th scope=col>&lt;dbl&gt;</th><th scope=col>&lt;dbl&gt;</th><th scope=col>&lt;chr&gt;</th></tr>\n",
       "</thead>\n",
       "<tbody>\n",
       "\t<tr><td>C2F7DD78E82EC875</td><td>electric_bike</td><td>2022-01-13 11:59:47</td><td>2022-01-13 12:02:44</td><td><span style=white-space:pre-wrap>Glenwood Ave &amp; Touhy Ave     </span></td><td><span style=white-space:pre-wrap>525         </span></td><td><span style=white-space:pre-wrap>Clark St &amp; Touhy Ave         </span></td><td><span style=white-space:pre-wrap>RP-007      </span></td><td>42.01280</td><td>-87.66591</td><td>42.01256</td><td>-87.67437</td><td>casual</td></tr>\n",
       "\t<tr><td>A6CF8980A652D272</td><td>electric_bike</td><td>2022-01-10 08:41:56</td><td>2022-01-10 08:46:17</td><td><span style=white-space:pre-wrap>Glenwood Ave &amp; Touhy Ave     </span></td><td><span style=white-space:pre-wrap>525         </span></td><td><span style=white-space:pre-wrap>Clark St &amp; Touhy Ave         </span></td><td><span style=white-space:pre-wrap>RP-007      </span></td><td>42.01276</td><td>-87.66597</td><td>42.01256</td><td>-87.67437</td><td>casual</td></tr>\n",
       "\t<tr><td>BD0F91DFF741C66D</td><td>classic_bike </td><td>2022-01-25 04:53:40</td><td>2022-01-25 04:58:01</td><td>Sheffield Ave &amp; Fullerton Ave</td><td>TA1306000016</td><td>Greenview Ave &amp; Fullerton Ave</td><td>TA1307000001</td><td>41.92560</td><td>-87.65371</td><td>41.92533</td><td>-87.66580</td><td>member</td></tr>\n",
       "\t<tr><td>CBB80ED419105406</td><td>classic_bike </td><td>2022-01-04 00:18:04</td><td>2022-01-04 00:33:00</td><td><span style=white-space:pre-wrap>Clark St &amp; Bryn Mawr Ave     </span></td><td>KA1504000151</td><td><span style=white-space:pre-wrap>Paulina St &amp; Montrose Ave    </span></td><td>TA1309000021</td><td>41.98359</td><td>-87.66915</td><td>41.96151</td><td>-87.67139</td><td>casual</td></tr>\n",
       "\t<tr><td>DDC963BFDDA51EEA</td><td>classic_bike </td><td>2022-01-20 01:31:10</td><td>2022-01-20 01:37:12</td><td><span style=white-space:pre-wrap>Michigan Ave &amp; Jackson Blvd  </span></td><td>TA1309000002</td><td><span style=white-space:pre-wrap>State St &amp; Randolph St       </span></td><td>TA1305000029</td><td>41.87785</td><td>-87.62408</td><td>41.88462</td><td>-87.62783</td><td>member</td></tr>\n",
       "\t<tr><td>A39C6F6CC0586C0B</td><td>classic_bike </td><td>2022-01-11 18:48:09</td><td>2022-01-11 18:51:31</td><td><span style=white-space:pre-wrap>Wood St &amp; Chicago Ave        </span></td><td><span style=white-space:pre-wrap>637         </span></td><td><span style=white-space:pre-wrap>Honore St &amp; Division St      </span></td><td>TA1305000034</td><td>41.89563</td><td>-87.67207</td><td>41.90312</td><td>-87.67394</td><td>member</td></tr>\n",
       "</tbody>\n",
       "</table>\n"
      ],
      "text/latex": [
       "A data.table: 6 × 13\n",
       "\\begin{tabular}{lllllllllllll}\n",
       " ride\\_id & rideable\\_type & started\\_at & ended\\_at & start\\_station\\_name & start\\_station\\_id & end\\_station\\_name & end\\_station\\_id & start\\_lat & start\\_lng & end\\_lat & end\\_lng & member\\_casual\\\\\n",
       " <chr> & <chr> & <dttm> & <dttm> & <chr> & <chr> & <chr> & <chr> & <dbl> & <dbl> & <dbl> & <dbl> & <chr>\\\\\n",
       "\\hline\n",
       "\t C2F7DD78E82EC875 & electric\\_bike & 2022-01-13 11:59:47 & 2022-01-13 12:02:44 & Glenwood Ave \\& Touhy Ave      & 525          & Clark St \\& Touhy Ave          & RP-007       & 42.01280 & -87.66591 & 42.01256 & -87.67437 & casual\\\\\n",
       "\t A6CF8980A652D272 & electric\\_bike & 2022-01-10 08:41:56 & 2022-01-10 08:46:17 & Glenwood Ave \\& Touhy Ave      & 525          & Clark St \\& Touhy Ave          & RP-007       & 42.01276 & -87.66597 & 42.01256 & -87.67437 & casual\\\\\n",
       "\t BD0F91DFF741C66D & classic\\_bike  & 2022-01-25 04:53:40 & 2022-01-25 04:58:01 & Sheffield Ave \\& Fullerton Ave & TA1306000016 & Greenview Ave \\& Fullerton Ave & TA1307000001 & 41.92560 & -87.65371 & 41.92533 & -87.66580 & member\\\\\n",
       "\t CBB80ED419105406 & classic\\_bike  & 2022-01-04 00:18:04 & 2022-01-04 00:33:00 & Clark St \\& Bryn Mawr Ave      & KA1504000151 & Paulina St \\& Montrose Ave     & TA1309000021 & 41.98359 & -87.66915 & 41.96151 & -87.67139 & casual\\\\\n",
       "\t DDC963BFDDA51EEA & classic\\_bike  & 2022-01-20 01:31:10 & 2022-01-20 01:37:12 & Michigan Ave \\& Jackson Blvd   & TA1309000002 & State St \\& Randolph St        & TA1305000029 & 41.87785 & -87.62408 & 41.88462 & -87.62783 & member\\\\\n",
       "\t A39C6F6CC0586C0B & classic\\_bike  & 2022-01-11 18:48:09 & 2022-01-11 18:51:31 & Wood St \\& Chicago Ave         & 637          & Honore St \\& Division St       & TA1305000034 & 41.89563 & -87.67207 & 41.90312 & -87.67394 & member\\\\\n",
       "\\end{tabular}\n"
      ],
      "text/markdown": [
       "\n",
       "A data.table: 6 × 13\n",
       "\n",
       "| ride_id &lt;chr&gt; | rideable_type &lt;chr&gt; | started_at &lt;dttm&gt; | ended_at &lt;dttm&gt; | start_station_name &lt;chr&gt; | start_station_id &lt;chr&gt; | end_station_name &lt;chr&gt; | end_station_id &lt;chr&gt; | start_lat &lt;dbl&gt; | start_lng &lt;dbl&gt; | end_lat &lt;dbl&gt; | end_lng &lt;dbl&gt; | member_casual &lt;chr&gt; |\n",
       "|---|---|---|---|---|---|---|---|---|---|---|---|---|\n",
       "| C2F7DD78E82EC875 | electric_bike | 2022-01-13 11:59:47 | 2022-01-13 12:02:44 | Glenwood Ave &amp; Touhy Ave      | 525          | Clark St &amp; Touhy Ave          | RP-007       | 42.01280 | -87.66591 | 42.01256 | -87.67437 | casual |\n",
       "| A6CF8980A652D272 | electric_bike | 2022-01-10 08:41:56 | 2022-01-10 08:46:17 | Glenwood Ave &amp; Touhy Ave      | 525          | Clark St &amp; Touhy Ave          | RP-007       | 42.01276 | -87.66597 | 42.01256 | -87.67437 | casual |\n",
       "| BD0F91DFF741C66D | classic_bike  | 2022-01-25 04:53:40 | 2022-01-25 04:58:01 | Sheffield Ave &amp; Fullerton Ave | TA1306000016 | Greenview Ave &amp; Fullerton Ave | TA1307000001 | 41.92560 | -87.65371 | 41.92533 | -87.66580 | member |\n",
       "| CBB80ED419105406 | classic_bike  | 2022-01-04 00:18:04 | 2022-01-04 00:33:00 | Clark St &amp; Bryn Mawr Ave      | KA1504000151 | Paulina St &amp; Montrose Ave     | TA1309000021 | 41.98359 | -87.66915 | 41.96151 | -87.67139 | casual |\n",
       "| DDC963BFDDA51EEA | classic_bike  | 2022-01-20 01:31:10 | 2022-01-20 01:37:12 | Michigan Ave &amp; Jackson Blvd   | TA1309000002 | State St &amp; Randolph St        | TA1305000029 | 41.87785 | -87.62408 | 41.88462 | -87.62783 | member |\n",
       "| A39C6F6CC0586C0B | classic_bike  | 2022-01-11 18:48:09 | 2022-01-11 18:51:31 | Wood St &amp; Chicago Ave         | 637          | Honore St &amp; Division St       | TA1305000034 | 41.89563 | -87.67207 | 41.90312 | -87.67394 | member |\n",
       "\n"
      ],
      "text/plain": [
       "  ride_id          rideable_type started_at          ended_at           \n",
       "1 C2F7DD78E82EC875 electric_bike 2022-01-13 11:59:47 2022-01-13 12:02:44\n",
       "2 A6CF8980A652D272 electric_bike 2022-01-10 08:41:56 2022-01-10 08:46:17\n",
       "3 BD0F91DFF741C66D classic_bike  2022-01-25 04:53:40 2022-01-25 04:58:01\n",
       "4 CBB80ED419105406 classic_bike  2022-01-04 00:18:04 2022-01-04 00:33:00\n",
       "5 DDC963BFDDA51EEA classic_bike  2022-01-20 01:31:10 2022-01-20 01:37:12\n",
       "6 A39C6F6CC0586C0B classic_bike  2022-01-11 18:48:09 2022-01-11 18:51:31\n",
       "  start_station_name            start_station_id end_station_name             \n",
       "1 Glenwood Ave & Touhy Ave      525              Clark St & Touhy Ave         \n",
       "2 Glenwood Ave & Touhy Ave      525              Clark St & Touhy Ave         \n",
       "3 Sheffield Ave & Fullerton Ave TA1306000016     Greenview Ave & Fullerton Ave\n",
       "4 Clark St & Bryn Mawr Ave      KA1504000151     Paulina St & Montrose Ave    \n",
       "5 Michigan Ave & Jackson Blvd   TA1309000002     State St & Randolph St       \n",
       "6 Wood St & Chicago Ave         637              Honore St & Division St      \n",
       "  end_station_id start_lat start_lng end_lat  end_lng   member_casual\n",
       "1 RP-007         42.01280  -87.66591 42.01256 -87.67437 casual       \n",
       "2 RP-007         42.01276  -87.66597 42.01256 -87.67437 casual       \n",
       "3 TA1307000001   41.92560  -87.65371 41.92533 -87.66580 member       \n",
       "4 TA1309000021   41.98359  -87.66915 41.96151 -87.67139 casual       \n",
       "5 TA1305000029   41.87785  -87.62408 41.88462 -87.62783 member       \n",
       "6 TA1305000034   41.89563  -87.67207 41.90312 -87.67394 member       "
      ]
     },
     "metadata": {},
     "output_type": "display_data"
    },
    {
     "name": "stdout",
     "output_type": "stream",
     "text": [
      "Rows: 5,667,717\n",
      "Columns: 13\n",
      "$ ride_id            \u001b[3m\u001b[90m<chr>\u001b[39m\u001b[23m \"C2F7DD78E82EC875\", \"A6CF8980A652D272\", \"BD0F91DFF7…\n",
      "$ rideable_type      \u001b[3m\u001b[90m<chr>\u001b[39m\u001b[23m \"electric_bike\", \"electric_bike\", \"classic_bike\", \"…\n",
      "$ started_at         \u001b[3m\u001b[90m<dttm>\u001b[39m\u001b[23m 2022-01-13 11:59:47, 2022-01-10 08:41:56, 2022-01-…\n",
      "$ ended_at           \u001b[3m\u001b[90m<dttm>\u001b[39m\u001b[23m 2022-01-13 12:02:44, 2022-01-10 08:46:17, 2022-01-…\n",
      "$ start_station_name \u001b[3m\u001b[90m<chr>\u001b[39m\u001b[23m \"Glenwood Ave & Touhy Ave\", \"Glenwood Ave & Touhy A…\n",
      "$ start_station_id   \u001b[3m\u001b[90m<chr>\u001b[39m\u001b[23m \"525\", \"525\", \"TA1306000016\", \"KA1504000151\", \"TA13…\n",
      "$ end_station_name   \u001b[3m\u001b[90m<chr>\u001b[39m\u001b[23m \"Clark St & Touhy Ave\", \"Clark St & Touhy Ave\", \"Gr…\n",
      "$ end_station_id     \u001b[3m\u001b[90m<chr>\u001b[39m\u001b[23m \"RP-007\", \"RP-007\", \"TA1307000001\", \"TA1309000021\",…\n",
      "$ start_lat          \u001b[3m\u001b[90m<dbl>\u001b[39m\u001b[23m 42.01280, 42.01276, 41.92560, 41.98359, 41.87785, 4…\n",
      "$ start_lng          \u001b[3m\u001b[90m<dbl>\u001b[39m\u001b[23m -87.66591, -87.66597, -87.65371, -87.66915, -87.624…\n",
      "$ end_lat            \u001b[3m\u001b[90m<dbl>\u001b[39m\u001b[23m 42.01256, 42.01256, 41.92533, 41.96151, 41.88462, 4…\n",
      "$ end_lng            \u001b[3m\u001b[90m<dbl>\u001b[39m\u001b[23m -87.67437, -87.67437, -87.66580, -87.67139, -87.627…\n",
      "$ member_casual      \u001b[3m\u001b[90m<chr>\u001b[39m\u001b[23m \"casual\", \"casual\", \"member\", \"casual\", \"member\", \"…\n"
     ]
    }
   ],
   "source": [
    "setwd(\"/kaggle/input/cyclistics-data-set-google-case-study\") # change working directory\n",
    "trip_year_2022 <- list.files(path = \"/kaggle/input/cyclistics-data-set-google-case-study\", pattern = \"*.csv\") %>% \n",
    "  map_df(~fread(.)) \n",
    "\n",
    "str(trip_year_2022)\n",
    "head(trip_year_2022)\n",
    "glimpse(trip_year_2022)"
   ]
  },
  {
   "cell_type": "markdown",
   "id": "fee61be3",
   "metadata": {
    "papermill": {
     "duration": 0.006774,
     "end_time": "2023-03-22T02:32:52.823613",
     "exception": false,
     "start_time": "2023-03-22T02:32:52.816839",
     "status": "completed"
    },
    "tags": []
   },
   "source": [
    "In the above steps we know the general format and datatypes of the dataframe.We can also confirm that the files are sucessfully compiled into single dataframe without any errors.\n",
    "\n",
    "Note: We should confirm that the variables and their datatypes are same across the files. If not, we can can import individual files and process the data then we can append the files into single dataframe. "
   ]
  },
  {
   "cell_type": "code",
   "execution_count": 3,
   "id": "155d0976",
   "metadata": {
    "execution": {
     "iopub.execute_input": "2023-03-22T02:32:52.842053Z",
     "iopub.status.busy": "2023-03-22T02:32:52.840517Z",
     "iopub.status.idle": "2023-03-22T02:32:53.046285Z",
     "shell.execute_reply": "2023-03-22T02:32:53.044545Z"
    },
    "papermill": {
     "duration": 0.218057,
     "end_time": "2023-03-22T02:32:53.048895",
     "exception": false,
     "start_time": "2023-03-22T02:32:52.830838",
     "status": "completed"
    },
    "tags": []
   },
   "outputs": [
    {
     "data": {
      "text/html": [
       "<style>\n",
       ".list-inline {list-style: none; margin:0; padding: 0}\n",
       ".list-inline>li {display: inline-block}\n",
       ".list-inline>li:not(:last-child)::after {content: \"\\00b7\"; padding: 0 .5ex}\n",
       "</style>\n",
       "<ol class=list-inline><li>'electric_bike'</li><li>'classic_bike'</li><li>'docked_bike'</li></ol>\n"
      ],
      "text/latex": [
       "\\begin{enumerate*}\n",
       "\\item 'electric\\_bike'\n",
       "\\item 'classic\\_bike'\n",
       "\\item 'docked\\_bike'\n",
       "\\end{enumerate*}\n"
      ],
      "text/markdown": [
       "1. 'electric_bike'\n",
       "2. 'classic_bike'\n",
       "3. 'docked_bike'\n",
       "\n",
       "\n"
      ],
      "text/plain": [
       "[1] \"electric_bike\" \"classic_bike\"  \"docked_bike\"  "
      ]
     },
     "metadata": {},
     "output_type": "display_data"
    },
    {
     "data": {
      "text/html": [
       "<style>\n",
       ".list-inline {list-style: none; margin:0; padding: 0}\n",
       ".list-inline>li {display: inline-block}\n",
       ".list-inline>li:not(:last-child)::after {content: \"\\00b7\"; padding: 0 .5ex}\n",
       "</style>\n",
       "<ol class=list-inline><li>'casual'</li><li>'member'</li></ol>\n"
      ],
      "text/latex": [
       "\\begin{enumerate*}\n",
       "\\item 'casual'\n",
       "\\item 'member'\n",
       "\\end{enumerate*}\n"
      ],
      "text/markdown": [
       "1. 'casual'\n",
       "2. 'member'\n",
       "\n",
       "\n"
      ],
      "text/plain": [
       "[1] \"casual\" \"member\""
      ]
     },
     "metadata": {},
     "output_type": "display_data"
    }
   ],
   "source": [
    "#Checking for blanks and other errors like capital letter in the words\n",
    "\n",
    "unique(trip_year_2022$rideable_type)\n",
    "unique(trip_year_2022$member_casual)"
   ]
  },
  {
   "cell_type": "markdown",
   "id": "97742eaf",
   "metadata": {
    "papermill": {
     "duration": 0.006776,
     "end_time": "2023-03-22T02:32:53.062602",
     "exception": false,
     "start_time": "2023-03-22T02:32:53.055826",
     "status": "completed"
    },
    "tags": []
   },
   "source": [
    "#### Data Wrangling\n",
    "I have eliminated the colunms that are not relevant for this analysis.Then I have added two main columns(variables) that are very much needed for our descriptive analysis.\n",
    "\n",
    "* Trip_durartion - Calculated by subtracting Ended at (date time) variable with started at variable\n",
    "\n",
    "* Weekday - Day of the week\n",
    "\n"
   ]
  },
  {
   "cell_type": "code",
   "execution_count": 4,
   "id": "a92c1fd2",
   "metadata": {
    "execution": {
     "iopub.execute_input": "2023-03-22T02:32:53.079813Z",
     "iopub.status.busy": "2023-03-22T02:32:53.078233Z",
     "iopub.status.idle": "2023-03-22T02:32:59.901775Z",
     "shell.execute_reply": "2023-03-22T02:32:59.899766Z"
    },
    "papermill": {
     "duration": 6.83517,
     "end_time": "2023-03-22T02:32:59.904523",
     "exception": false,
     "start_time": "2023-03-22T02:32:53.069353",
     "status": "completed"
    },
    "tags": []
   },
   "outputs": [
    {
     "data": {
      "text/html": [
       "<table class=\"dataframe\">\n",
       "<caption>A data.table: 6 × 11</caption>\n",
       "<thead>\n",
       "\t<tr><th scope=col>rideable_type</th><th scope=col>started_at</th><th scope=col>ended_at</th><th scope=col>start_station_name</th><th scope=col>start_station_id</th><th scope=col>end_station_name</th><th scope=col>end_station_id</th><th scope=col>member_casual</th><th scope=col>start_date</th><th scope=col>weekday</th><th scope=col>trip_duraion</th></tr>\n",
       "\t<tr><th scope=col>&lt;chr&gt;</th><th scope=col>&lt;dttm&gt;</th><th scope=col>&lt;dttm&gt;</th><th scope=col>&lt;chr&gt;</th><th scope=col>&lt;chr&gt;</th><th scope=col>&lt;chr&gt;</th><th scope=col>&lt;chr&gt;</th><th scope=col>&lt;chr&gt;</th><th scope=col>&lt;date&gt;</th><th scope=col>&lt;chr&gt;</th><th scope=col>&lt;drtn&gt;</th></tr>\n",
       "</thead>\n",
       "<tbody>\n",
       "\t<tr><td>electric_bike</td><td>2022-01-13 11:59:47</td><td>2022-01-13 12:02:44</td><td><span style=white-space:pre-wrap>Glenwood Ave &amp; Touhy Ave     </span></td><td><span style=white-space:pre-wrap>525         </span></td><td><span style=white-space:pre-wrap>Clark St &amp; Touhy Ave         </span></td><td><span style=white-space:pre-wrap>RP-007      </span></td><td>casual</td><td>2022-01-13</td><td>Thursday</td><td>177 secs</td></tr>\n",
       "\t<tr><td>electric_bike</td><td>2022-01-10 08:41:56</td><td>2022-01-10 08:46:17</td><td><span style=white-space:pre-wrap>Glenwood Ave &amp; Touhy Ave     </span></td><td><span style=white-space:pre-wrap>525         </span></td><td><span style=white-space:pre-wrap>Clark St &amp; Touhy Ave         </span></td><td><span style=white-space:pre-wrap>RP-007      </span></td><td>casual</td><td>2022-01-10</td><td><span style=white-space:pre-wrap>Monday  </span></td><td>261 secs</td></tr>\n",
       "\t<tr><td>classic_bike </td><td>2022-01-25 04:53:40</td><td>2022-01-25 04:58:01</td><td>Sheffield Ave &amp; Fullerton Ave</td><td>TA1306000016</td><td>Greenview Ave &amp; Fullerton Ave</td><td>TA1307000001</td><td>member</td><td>2022-01-25</td><td>Tuesday </td><td>261 secs</td></tr>\n",
       "\t<tr><td>classic_bike </td><td>2022-01-04 00:18:04</td><td>2022-01-04 00:33:00</td><td><span style=white-space:pre-wrap>Clark St &amp; Bryn Mawr Ave     </span></td><td>KA1504000151</td><td><span style=white-space:pre-wrap>Paulina St &amp; Montrose Ave    </span></td><td>TA1309000021</td><td>casual</td><td>2022-01-04</td><td>Tuesday </td><td>896 secs</td></tr>\n",
       "\t<tr><td>classic_bike </td><td>2022-01-20 01:31:10</td><td>2022-01-20 01:37:12</td><td><span style=white-space:pre-wrap>Michigan Ave &amp; Jackson Blvd  </span></td><td>TA1309000002</td><td><span style=white-space:pre-wrap>State St &amp; Randolph St       </span></td><td>TA1305000029</td><td>member</td><td>2022-01-20</td><td>Thursday</td><td>362 secs</td></tr>\n",
       "\t<tr><td>classic_bike </td><td>2022-01-11 18:48:09</td><td>2022-01-11 18:51:31</td><td><span style=white-space:pre-wrap>Wood St &amp; Chicago Ave        </span></td><td><span style=white-space:pre-wrap>637         </span></td><td><span style=white-space:pre-wrap>Honore St &amp; Division St      </span></td><td>TA1305000034</td><td>member</td><td>2022-01-11</td><td>Tuesday </td><td>202 secs</td></tr>\n",
       "</tbody>\n",
       "</table>\n"
      ],
      "text/latex": [
       "A data.table: 6 × 11\n",
       "\\begin{tabular}{lllllllllll}\n",
       " rideable\\_type & started\\_at & ended\\_at & start\\_station\\_name & start\\_station\\_id & end\\_station\\_name & end\\_station\\_id & member\\_casual & start\\_date & weekday & trip\\_duraion\\\\\n",
       " <chr> & <dttm> & <dttm> & <chr> & <chr> & <chr> & <chr> & <chr> & <date> & <chr> & <drtn>\\\\\n",
       "\\hline\n",
       "\t electric\\_bike & 2022-01-13 11:59:47 & 2022-01-13 12:02:44 & Glenwood Ave \\& Touhy Ave      & 525          & Clark St \\& Touhy Ave          & RP-007       & casual & 2022-01-13 & Thursday & 177 secs\\\\\n",
       "\t electric\\_bike & 2022-01-10 08:41:56 & 2022-01-10 08:46:17 & Glenwood Ave \\& Touhy Ave      & 525          & Clark St \\& Touhy Ave          & RP-007       & casual & 2022-01-10 & Monday   & 261 secs\\\\\n",
       "\t classic\\_bike  & 2022-01-25 04:53:40 & 2022-01-25 04:58:01 & Sheffield Ave \\& Fullerton Ave & TA1306000016 & Greenview Ave \\& Fullerton Ave & TA1307000001 & member & 2022-01-25 & Tuesday  & 261 secs\\\\\n",
       "\t classic\\_bike  & 2022-01-04 00:18:04 & 2022-01-04 00:33:00 & Clark St \\& Bryn Mawr Ave      & KA1504000151 & Paulina St \\& Montrose Ave     & TA1309000021 & casual & 2022-01-04 & Tuesday  & 896 secs\\\\\n",
       "\t classic\\_bike  & 2022-01-20 01:31:10 & 2022-01-20 01:37:12 & Michigan Ave \\& Jackson Blvd   & TA1309000002 & State St \\& Randolph St        & TA1305000029 & member & 2022-01-20 & Thursday & 362 secs\\\\\n",
       "\t classic\\_bike  & 2022-01-11 18:48:09 & 2022-01-11 18:51:31 & Wood St \\& Chicago Ave         & 637          & Honore St \\& Division St       & TA1305000034 & member & 2022-01-11 & Tuesday  & 202 secs\\\\\n",
       "\\end{tabular}\n"
      ],
      "text/markdown": [
       "\n",
       "A data.table: 6 × 11\n",
       "\n",
       "| rideable_type &lt;chr&gt; | started_at &lt;dttm&gt; | ended_at &lt;dttm&gt; | start_station_name &lt;chr&gt; | start_station_id &lt;chr&gt; | end_station_name &lt;chr&gt; | end_station_id &lt;chr&gt; | member_casual &lt;chr&gt; | start_date &lt;date&gt; | weekday &lt;chr&gt; | trip_duraion &lt;drtn&gt; |\n",
       "|---|---|---|---|---|---|---|---|---|---|---|\n",
       "| electric_bike | 2022-01-13 11:59:47 | 2022-01-13 12:02:44 | Glenwood Ave &amp; Touhy Ave      | 525          | Clark St &amp; Touhy Ave          | RP-007       | casual | 2022-01-13 | Thursday | 177 secs |\n",
       "| electric_bike | 2022-01-10 08:41:56 | 2022-01-10 08:46:17 | Glenwood Ave &amp; Touhy Ave      | 525          | Clark St &amp; Touhy Ave          | RP-007       | casual | 2022-01-10 | Monday   | 261 secs |\n",
       "| classic_bike  | 2022-01-25 04:53:40 | 2022-01-25 04:58:01 | Sheffield Ave &amp; Fullerton Ave | TA1306000016 | Greenview Ave &amp; Fullerton Ave | TA1307000001 | member | 2022-01-25 | Tuesday  | 261 secs |\n",
       "| classic_bike  | 2022-01-04 00:18:04 | 2022-01-04 00:33:00 | Clark St &amp; Bryn Mawr Ave      | KA1504000151 | Paulina St &amp; Montrose Ave     | TA1309000021 | casual | 2022-01-04 | Tuesday  | 896 secs |\n",
       "| classic_bike  | 2022-01-20 01:31:10 | 2022-01-20 01:37:12 | Michigan Ave &amp; Jackson Blvd   | TA1309000002 | State St &amp; Randolph St        | TA1305000029 | member | 2022-01-20 | Thursday | 362 secs |\n",
       "| classic_bike  | 2022-01-11 18:48:09 | 2022-01-11 18:51:31 | Wood St &amp; Chicago Ave         | 637          | Honore St &amp; Division St       | TA1305000034 | member | 2022-01-11 | Tuesday  | 202 secs |\n",
       "\n"
      ],
      "text/plain": [
       "  rideable_type started_at          ended_at           \n",
       "1 electric_bike 2022-01-13 11:59:47 2022-01-13 12:02:44\n",
       "2 electric_bike 2022-01-10 08:41:56 2022-01-10 08:46:17\n",
       "3 classic_bike  2022-01-25 04:53:40 2022-01-25 04:58:01\n",
       "4 classic_bike  2022-01-04 00:18:04 2022-01-04 00:33:00\n",
       "5 classic_bike  2022-01-20 01:31:10 2022-01-20 01:37:12\n",
       "6 classic_bike  2022-01-11 18:48:09 2022-01-11 18:51:31\n",
       "  start_station_name            start_station_id end_station_name             \n",
       "1 Glenwood Ave & Touhy Ave      525              Clark St & Touhy Ave         \n",
       "2 Glenwood Ave & Touhy Ave      525              Clark St & Touhy Ave         \n",
       "3 Sheffield Ave & Fullerton Ave TA1306000016     Greenview Ave & Fullerton Ave\n",
       "4 Clark St & Bryn Mawr Ave      KA1504000151     Paulina St & Montrose Ave    \n",
       "5 Michigan Ave & Jackson Blvd   TA1309000002     State St & Randolph St       \n",
       "6 Wood St & Chicago Ave         637              Honore St & Division St      \n",
       "  end_station_id member_casual start_date weekday  trip_duraion\n",
       "1 RP-007         casual        2022-01-13 Thursday 177 secs    \n",
       "2 RP-007         casual        2022-01-10 Monday   261 secs    \n",
       "3 TA1307000001   member        2022-01-25 Tuesday  261 secs    \n",
       "4 TA1309000021   casual        2022-01-04 Tuesday  896 secs    \n",
       "5 TA1305000029   member        2022-01-20 Thursday 362 secs    \n",
       "6 TA1305000034   member        2022-01-11 Tuesday  202 secs    "
      ]
     },
     "metadata": {},
     "output_type": "display_data"
    },
    {
     "name": "stdout",
     "output_type": "stream",
     "text": [
      "Rows: 5,667,717\n",
      "Columns: 11\n",
      "$ rideable_type      \u001b[3m\u001b[90m<chr>\u001b[39m\u001b[23m \"electric_bike\", \"electric_bike\", \"classic_bike\", \"…\n",
      "$ started_at         \u001b[3m\u001b[90m<dttm>\u001b[39m\u001b[23m 2022-01-13 11:59:47, 2022-01-10 08:41:56, 2022-01-…\n",
      "$ ended_at           \u001b[3m\u001b[90m<dttm>\u001b[39m\u001b[23m 2022-01-13 12:02:44, 2022-01-10 08:46:17, 2022-01-…\n",
      "$ start_station_name \u001b[3m\u001b[90m<chr>\u001b[39m\u001b[23m \"Glenwood Ave & Touhy Ave\", \"Glenwood Ave & Touhy A…\n",
      "$ start_station_id   \u001b[3m\u001b[90m<chr>\u001b[39m\u001b[23m \"525\", \"525\", \"TA1306000016\", \"KA1504000151\", \"TA13…\n",
      "$ end_station_name   \u001b[3m\u001b[90m<chr>\u001b[39m\u001b[23m \"Clark St & Touhy Ave\", \"Clark St & Touhy Ave\", \"Gr…\n",
      "$ end_station_id     \u001b[3m\u001b[90m<chr>\u001b[39m\u001b[23m \"RP-007\", \"RP-007\", \"TA1307000001\", \"TA1309000021\",…\n",
      "$ member_casual      \u001b[3m\u001b[90m<chr>\u001b[39m\u001b[23m \"casual\", \"casual\", \"member\", \"casual\", \"member\", \"…\n",
      "$ start_date         \u001b[3m\u001b[90m<date>\u001b[39m\u001b[23m 2022-01-13, 2022-01-10, 2022-01-25, 2022-01-04, 20…\n",
      "$ weekday            \u001b[3m\u001b[90m<chr>\u001b[39m\u001b[23m \"Thursday\", \"Monday\", \"Tuesday\", \"Tuesday\", \"Thursd…\n",
      "$ trip_duraion       \u001b[3m\u001b[90m<drtn>\u001b[39m\u001b[23m 177 secs, 261 secs, 261 secs, 896 secs, 362 secs, …\n"
     ]
    }
   ],
   "source": [
    "trip_2022 <- trip_year_2022[,-c(1,9,10,11,12)] %>% mutate(start_date = date(started_at),weekday = weekdays(started_at),trip_duraion = difftime(ended_at,started_at))\n",
    "head(trip_2022)\n",
    "glimpse(trip_2022)"
   ]
  },
  {
   "cell_type": "markdown",
   "id": "ffdb6005",
   "metadata": {
    "papermill": {
     "duration": 0.007113,
     "end_time": "2023-03-22T02:32:59.919341",
     "exception": false,
     "start_time": "2023-03-22T02:32:59.912228",
     "status": "completed"
    },
    "tags": []
   },
   "source": [
    "We can see that the trip_durtion variable is in drtn datatype which is the default datatype for difftime() function.\n",
    "I am going to change that to numeric and save into new variable.Then we also add months and quarter so that we can analysis data by aggregating based on these variables."
   ]
  },
  {
   "cell_type": "code",
   "execution_count": 5,
   "id": "f5fc0c7e",
   "metadata": {
    "execution": {
     "iopub.execute_input": "2023-03-22T02:32:59.937706Z",
     "iopub.status.busy": "2023-03-22T02:32:59.936087Z",
     "iopub.status.idle": "2023-03-22T02:33:09.199877Z",
     "shell.execute_reply": "2023-03-22T02:33:09.197816Z"
    },
    "papermill": {
     "duration": 9.276051,
     "end_time": "2023-03-22T02:33:09.202647",
     "exception": false,
     "start_time": "2023-03-22T02:32:59.926596",
     "status": "completed"
    },
    "tags": []
   },
   "outputs": [
    {
     "name": "stdout",
     "output_type": "stream",
     "text": [
      "Rows: 5,667,717\n",
      "Columns: 14\n",
      "$ rideable_type      \u001b[3m\u001b[90m<chr>\u001b[39m\u001b[23m \"electric_bike\", \"electric_bike\", \"classic_bike\", \"…\n",
      "$ started_at         \u001b[3m\u001b[90m<dttm>\u001b[39m\u001b[23m 2022-01-13 11:59:47, 2022-01-10 08:41:56, 2022-01-…\n",
      "$ ended_at           \u001b[3m\u001b[90m<dttm>\u001b[39m\u001b[23m 2022-01-13 12:02:44, 2022-01-10 08:46:17, 2022-01-…\n",
      "$ start_station_name \u001b[3m\u001b[90m<chr>\u001b[39m\u001b[23m \"Glenwood Ave & Touhy Ave\", \"Glenwood Ave & Touhy A…\n",
      "$ start_station_id   \u001b[3m\u001b[90m<chr>\u001b[39m\u001b[23m \"525\", \"525\", \"TA1306000016\", \"KA1504000151\", \"TA13…\n",
      "$ end_station_name   \u001b[3m\u001b[90m<chr>\u001b[39m\u001b[23m \"Clark St & Touhy Ave\", \"Clark St & Touhy Ave\", \"Gr…\n",
      "$ end_station_id     \u001b[3m\u001b[90m<chr>\u001b[39m\u001b[23m \"RP-007\", \"RP-007\", \"TA1307000001\", \"TA1309000021\",…\n",
      "$ member_casual      \u001b[3m\u001b[90m<chr>\u001b[39m\u001b[23m \"casual\", \"casual\", \"member\", \"casual\", \"member\", \"…\n",
      "$ start_date         \u001b[3m\u001b[90m<date>\u001b[39m\u001b[23m 2022-01-13, 2022-01-10, 2022-01-25, 2022-01-04, 20…\n",
      "$ weekday            \u001b[3m\u001b[90m<chr>\u001b[39m\u001b[23m \"Thursday\", \"Monday\", \"Tuesday\", \"Tuesday\", \"Thursd…\n",
      "$ trip_duraion       \u001b[3m\u001b[90m<drtn>\u001b[39m\u001b[23m 177 secs, 261 secs, 261 secs, 896 secs, 362 secs, …\n",
      "$ trip_duraion_num   \u001b[3m\u001b[90m<dbl>\u001b[39m\u001b[23m 177, 261, 261, 896, 362, 202, 994, 724, 1527, 443, …\n",
      "$ month              \u001b[3m\u001b[90m<chr>\u001b[39m\u001b[23m \"January\", \"January\", \"January\", \"January\", \"Januar…\n",
      "$ year_quarter       \u001b[3m\u001b[90m<int>\u001b[39m\u001b[23m 1, 1, 1, 1, 1, 1, 1, 1, 1, 1, 1, 1, 1, 1, 1, 1, 1, …\n"
     ]
    }
   ],
   "source": [
    "trip_2022$trip_duraion_num <- as.numeric(trip_2022$trip_duraion)\n",
    "trip_2022$month<- months(trip_2022$started_at)\n",
    "trip_2022$year_quarter <- quarter(trip_2022$start_date)\n",
    "\n",
    "glimpse(trip_2022)"
   ]
  },
  {
   "cell_type": "markdown",
   "id": "daa94745",
   "metadata": {
    "papermill": {
     "duration": 0.007453,
     "end_time": "2023-03-22T02:33:09.217446",
     "exception": false,
     "start_time": "2023-03-22T02:33:09.209993",
     "status": "completed"
    },
    "tags": []
   },
   "source": [
    "**Final Check**\n",
    "\n",
    "Then I will check any other errors in my data so that I can start my analysis. "
   ]
  },
  {
   "cell_type": "code",
   "execution_count": 6,
   "id": "20acb872",
   "metadata": {
    "execution": {
     "iopub.execute_input": "2023-03-22T02:33:09.235912Z",
     "iopub.status.busy": "2023-03-22T02:33:09.234324Z",
     "iopub.status.idle": "2023-03-22T02:33:11.134035Z",
     "shell.execute_reply": "2023-03-22T02:33:11.132316Z"
    },
    "papermill": {
     "duration": 1.911655,
     "end_time": "2023-03-22T02:33:11.136498",
     "exception": false,
     "start_time": "2023-03-22T02:33:09.224843",
     "status": "completed"
    },
    "tags": []
   },
   "outputs": [
    {
     "data": {
      "text/plain": [
       " rideable_type        started_at                     ended_at                  \n",
       " Length:5667717     Min.   :2022-01-01 00:00:05   Min.   :2022-01-01 00:01:48  \n",
       " Class :character   1st Qu.:2022-05-28 19:21:05   1st Qu.:2022-05-28 19:43:07  \n",
       " Mode  :character   Median :2022-07-22 15:03:59   Median :2022-07-22 15:24:44  \n",
       "                    Mean   :2022-07-20 07:21:18   Mean   :2022-07-20 07:40:45  \n",
       "                    3rd Qu.:2022-09-16 07:21:29   3rd Qu.:2022-09-16 07:39:03  \n",
       "                    Max.   :2022-12-31 23:59:26   Max.   :2023-01-02 04:56:45  \n",
       " start_station_name start_station_id   end_station_name   end_station_id    \n",
       " Length:5667717     Length:5667717     Length:5667717     Length:5667717    \n",
       " Class :character   Class :character   Class :character   Class :character  \n",
       " Mode  :character   Mode  :character   Mode  :character   Mode  :character  \n",
       "                                                                            \n",
       "                                                                            \n",
       "                                                                            \n",
       " member_casual        start_date           weekday          trip_duraion     \n",
       " Length:5667717     Min.   :2022-01-01   Length:5667717     Length:5667717   \n",
       " Class :character   1st Qu.:2022-05-28   Class :character   Class :difftime  \n",
       " Mode  :character   Median :2022-07-22   Mode  :character   Mode  :numeric   \n",
       "                    Mean   :2022-07-19                                       \n",
       "                    3rd Qu.:2022-09-16                                       \n",
       "                    Max.   :2022-12-31                                       \n",
       " trip_duraion_num     month            year_quarter  \n",
       " Min.   :-621201   Length:5667717     Min.   :1.000  \n",
       " 1st Qu.:    349   Class :character   1st Qu.:2.000  \n",
       " Median :    617   Mode  :character   Median :3.000  \n",
       " Mean   :   1167                      Mean   :2.699  \n",
       " 3rd Qu.:   1108                      3rd Qu.:3.000  \n",
       " Max.   :2483235                      Max.   :4.000  "
      ]
     },
     "metadata": {},
     "output_type": "display_data"
    }
   ],
   "source": [
    "summary(trip_2022)"
   ]
  },
  {
   "cell_type": "markdown",
   "id": "ce426d21",
   "metadata": {
    "papermill": {
     "duration": 0.007881,
     "end_time": "2023-03-22T02:33:11.151864",
     "exception": false,
     "start_time": "2023-03-22T02:33:11.143983",
     "status": "completed"
    },
    "tags": []
   },
   "source": [
    "We can see that in trip_duration_num there are negative values that have appeared due to end date prior to the start date. Hence we remove those rows that have negative values.\n",
    "\n",
    "Note: If possible try to communicate with the company for this error and try to rectify it without deleting the rows."
   ]
  },
  {
   "cell_type": "code",
   "execution_count": 7,
   "id": "0857d327",
   "metadata": {
    "execution": {
     "iopub.execute_input": "2023-03-22T02:33:11.170549Z",
     "iopub.status.busy": "2023-03-22T02:33:11.168967Z",
     "iopub.status.idle": "2023-03-22T02:33:11.751925Z",
     "shell.execute_reply": "2023-03-22T02:33:11.750083Z"
    },
    "papermill": {
     "duration": 0.595423,
     "end_time": "2023-03-22T02:33:11.754783",
     "exception": false,
     "start_time": "2023-03-22T02:33:11.159360",
     "status": "completed"
    },
    "tags": []
   },
   "outputs": [],
   "source": [
    "trip_2022 <- trip_2022[!(trip_2022$trip_duraion_num < 0),]"
   ]
  },
  {
   "cell_type": "markdown",
   "id": "6ed22e78",
   "metadata": {
    "papermill": {
     "duration": 0.008323,
     "end_time": "2023-03-22T02:33:11.772334",
     "exception": false,
     "start_time": "2023-03-22T02:33:11.764011",
     "status": "completed"
    },
    "tags": []
   },
   "source": [
    "<a id =\"section5\"></a>\n",
    "# Analysis and Visualization\n",
    "\n",
    "We are going to focus  mainly on the Rider type for this analysis since the target question is to differentiate the member rider and casual rider.We will start the analysis by aggregating the data for rider type with other variables "
   ]
  },
  {
   "cell_type": "code",
   "execution_count": 8,
   "id": "fa25e5ef",
   "metadata": {
    "execution": {
     "iopub.execute_input": "2023-03-22T02:33:11.791120Z",
     "iopub.status.busy": "2023-03-22T02:33:11.789586Z",
     "iopub.status.idle": "2023-03-22T02:33:20.451614Z",
     "shell.execute_reply": "2023-03-22T02:33:20.449782Z"
    },
    "papermill": {
     "duration": 8.674609,
     "end_time": "2023-03-22T02:33:20.454548",
     "exception": false,
     "start_time": "2023-03-22T02:33:11.779939",
     "status": "completed"
    },
    "tags": []
   },
   "outputs": [
    {
     "data": {
      "text/html": [
       "<table class=\"dataframe\">\n",
       "<caption>A data.frame: 2 × 2</caption>\n",
       "<thead>\n",
       "\t<tr><th scope=col>trip_2022$member_casual</th><th scope=col>trip_2022$trip_duraion_num/60</th></tr>\n",
       "\t<tr><th scope=col>&lt;chr&gt;</th><th scope=col>&lt;dbl&gt;</th></tr>\n",
       "</thead>\n",
       "<tbody>\n",
       "\t<tr><td>casual</td><td>29.14572</td></tr>\n",
       "\t<tr><td>member</td><td>12.71401</td></tr>\n",
       "</tbody>\n",
       "</table>\n"
      ],
      "text/latex": [
       "A data.frame: 2 × 2\n",
       "\\begin{tabular}{ll}\n",
       " trip\\_2022\\$member\\_casual & trip\\_2022\\$trip\\_duraion\\_num/60\\\\\n",
       " <chr> & <dbl>\\\\\n",
       "\\hline\n",
       "\t casual & 29.14572\\\\\n",
       "\t member & 12.71401\\\\\n",
       "\\end{tabular}\n"
      ],
      "text/markdown": [
       "\n",
       "A data.frame: 2 × 2\n",
       "\n",
       "| trip_2022$member_casual &lt;chr&gt; | trip_2022$trip_duraion_num/60 &lt;dbl&gt; |\n",
       "|---|---|\n",
       "| casual | 29.14572 |\n",
       "| member | 12.71401 |\n",
       "\n"
      ],
      "text/plain": [
       "  trip_2022$member_casual trip_2022$trip_duraion_num/60\n",
       "1 casual                  29.14572                     \n",
       "2 member                  12.71401                     "
      ]
     },
     "metadata": {},
     "output_type": "display_data"
    },
    {
     "data": {
      "text/html": [
       "<table class=\"dataframe\">\n",
       "<caption>A data.frame: 2 × 2</caption>\n",
       "<thead>\n",
       "\t<tr><th scope=col>trip_2022$member_casual</th><th scope=col>trip_2022$trip_duraion_num/60</th></tr>\n",
       "\t<tr><th scope=col>&lt;chr&gt;</th><th scope=col>&lt;dbl&gt;</th></tr>\n",
       "</thead>\n",
       "<tbody>\n",
       "\t<tr><td>casual</td><td>41387.25</td></tr>\n",
       "\t<tr><td>member</td><td> 1559.90</td></tr>\n",
       "</tbody>\n",
       "</table>\n"
      ],
      "text/latex": [
       "A data.frame: 2 × 2\n",
       "\\begin{tabular}{ll}\n",
       " trip\\_2022\\$member\\_casual & trip\\_2022\\$trip\\_duraion\\_num/60\\\\\n",
       " <chr> & <dbl>\\\\\n",
       "\\hline\n",
       "\t casual & 41387.25\\\\\n",
       "\t member &  1559.90\\\\\n",
       "\\end{tabular}\n"
      ],
      "text/markdown": [
       "\n",
       "A data.frame: 2 × 2\n",
       "\n",
       "| trip_2022$member_casual &lt;chr&gt; | trip_2022$trip_duraion_num/60 &lt;dbl&gt; |\n",
       "|---|---|\n",
       "| casual | 41387.25 |\n",
       "| member |  1559.90 |\n",
       "\n"
      ],
      "text/plain": [
       "  trip_2022$member_casual trip_2022$trip_duraion_num/60\n",
       "1 casual                  41387.25                     \n",
       "2 member                   1559.90                     "
      ]
     },
     "metadata": {},
     "output_type": "display_data"
    }
   ],
   "source": [
    "# Aggregating data for calculate the average and maximum of the trip duration \n",
    "# for each rider type\n",
    "\n",
    "aggregate(trip_2022$trip_duraion_num/60 ~ trip_2022$member_casual,FUN = mean)\n",
    "aggregate(trip_2022$trip_duraion_num/60 ~ trip_2022$member_casual,FUN = max)"
   ]
  },
  {
   "cell_type": "code",
   "execution_count": 9,
   "id": "10aea7b3",
   "metadata": {
    "execution": {
     "iopub.execute_input": "2023-03-22T02:33:20.474218Z",
     "iopub.status.busy": "2023-03-22T02:33:20.472681Z",
     "iopub.status.idle": "2023-03-22T02:33:26.993537Z",
     "shell.execute_reply": "2023-03-22T02:33:26.991755Z"
    },
    "papermill": {
     "duration": 6.533619,
     "end_time": "2023-03-22T02:33:26.996191",
     "exception": false,
     "start_time": "2023-03-22T02:33:20.462572",
     "status": "completed"
    },
    "tags": []
   },
   "outputs": [
    {
     "data": {
      "text/html": [
       "<table class=\"dataframe\">\n",
       "<caption>A data.frame: 14 × 3</caption>\n",
       "<thead>\n",
       "\t<tr><th scope=col>trip_2022$member_casual</th><th scope=col>trip_2022$weekday</th><th scope=col>trip_2022$trip_duraion_num</th></tr>\n",
       "\t<tr><th scope=col>&lt;chr&gt;</th><th scope=col>&lt;ord&gt;</th><th scope=col>&lt;dbl&gt;</th></tr>\n",
       "</thead>\n",
       "<tbody>\n",
       "\t<tr><td>casual</td><td>Sunday   </td><td>2043.4767</td></tr>\n",
       "\t<tr><td>member</td><td>Sunday   </td><td> 841.8746</td></tr>\n",
       "\t<tr><td>casual</td><td>Monday   </td><td>1751.2417</td></tr>\n",
       "\t<tr><td>member</td><td>Monday   </td><td> 736.2065</td></tr>\n",
       "\t<tr><td>casual</td><td>Tuesday  </td><td>1549.3721</td></tr>\n",
       "\t<tr><td>member</td><td>Tuesday  </td><td> 727.7694</td></tr>\n",
       "\t<tr><td>casual</td><td>Wednesday</td><td>1485.0507</td></tr>\n",
       "\t<tr><td>member</td><td>Wednesday</td><td> 726.2934</td></tr>\n",
       "\t<tr><td>casual</td><td>Thursday </td><td>1532.8751</td></tr>\n",
       "\t<tr><td>member</td><td>Thursday </td><td> 737.5637</td></tr>\n",
       "\t<tr><td>casual</td><td>Friday   </td><td>1682.6551</td></tr>\n",
       "\t<tr><td>member</td><td>Friday   </td><td> 751.8463</td></tr>\n",
       "\t<tr><td>casual</td><td>Saturday </td><td>1956.8451</td></tr>\n",
       "\t<tr><td>member</td><td>Saturday </td><td> 848.4037</td></tr>\n",
       "</tbody>\n",
       "</table>\n"
      ],
      "text/latex": [
       "A data.frame: 14 × 3\n",
       "\\begin{tabular}{lll}\n",
       " trip\\_2022\\$member\\_casual & trip\\_2022\\$weekday & trip\\_2022\\$trip\\_duraion\\_num\\\\\n",
       " <chr> & <ord> & <dbl>\\\\\n",
       "\\hline\n",
       "\t casual & Sunday    & 2043.4767\\\\\n",
       "\t member & Sunday    &  841.8746\\\\\n",
       "\t casual & Monday    & 1751.2417\\\\\n",
       "\t member & Monday    &  736.2065\\\\\n",
       "\t casual & Tuesday   & 1549.3721\\\\\n",
       "\t member & Tuesday   &  727.7694\\\\\n",
       "\t casual & Wednesday & 1485.0507\\\\\n",
       "\t member & Wednesday &  726.2934\\\\\n",
       "\t casual & Thursday  & 1532.8751\\\\\n",
       "\t member & Thursday  &  737.5637\\\\\n",
       "\t casual & Friday    & 1682.6551\\\\\n",
       "\t member & Friday    &  751.8463\\\\\n",
       "\t casual & Saturday  & 1956.8451\\\\\n",
       "\t member & Saturday  &  848.4037\\\\\n",
       "\\end{tabular}\n"
      ],
      "text/markdown": [
       "\n",
       "A data.frame: 14 × 3\n",
       "\n",
       "| trip_2022$member_casual &lt;chr&gt; | trip_2022$weekday &lt;ord&gt; | trip_2022$trip_duraion_num &lt;dbl&gt; |\n",
       "|---|---|---|\n",
       "| casual | Sunday    | 2043.4767 |\n",
       "| member | Sunday    |  841.8746 |\n",
       "| casual | Monday    | 1751.2417 |\n",
       "| member | Monday    |  736.2065 |\n",
       "| casual | Tuesday   | 1549.3721 |\n",
       "| member | Tuesday   |  727.7694 |\n",
       "| casual | Wednesday | 1485.0507 |\n",
       "| member | Wednesday |  726.2934 |\n",
       "| casual | Thursday  | 1532.8751 |\n",
       "| member | Thursday  |  737.5637 |\n",
       "| casual | Friday    | 1682.6551 |\n",
       "| member | Friday    |  751.8463 |\n",
       "| casual | Saturday  | 1956.8451 |\n",
       "| member | Saturday  |  848.4037 |\n",
       "\n"
      ],
      "text/plain": [
       "   trip_2022$member_casual trip_2022$weekday trip_2022$trip_duraion_num\n",
       "1  casual                  Sunday            2043.4767                 \n",
       "2  member                  Sunday             841.8746                 \n",
       "3  casual                  Monday            1751.2417                 \n",
       "4  member                  Monday             736.2065                 \n",
       "5  casual                  Tuesday           1549.3721                 \n",
       "6  member                  Tuesday            727.7694                 \n",
       "7  casual                  Wednesday         1485.0507                 \n",
       "8  member                  Wednesday          726.2934                 \n",
       "9  casual                  Thursday          1532.8751                 \n",
       "10 member                  Thursday           737.5637                 \n",
       "11 casual                  Friday            1682.6551                 \n",
       "12 member                  Friday             751.8463                 \n",
       "13 casual                  Saturday          1956.8451                 \n",
       "14 member                  Saturday           848.4037                 "
      ]
     },
     "metadata": {},
     "output_type": "display_data"
    }
   ],
   "source": [
    "# Ordering the weekday variable and finding the average trip duration  \n",
    "# each rider type took on that particular weekday\n",
    "\n",
    "trip_2022$weekday <- ordered(trip_2022$weekday,levels=c(\"Sunday\", \"Monday\", \"Tuesday\", \"Wednesday\", \"Thursday\", \"Friday\", \"Saturday\"))\n",
    "aggregate(trip_2022$trip_duraion_num ~ trip_2022$member_casual + trip_2022$weekday,FUN = mean)"
   ]
  },
  {
   "cell_type": "code",
   "execution_count": 10,
   "id": "706194e7",
   "metadata": {
    "execution": {
     "iopub.execute_input": "2023-03-22T02:33:27.016161Z",
     "iopub.status.busy": "2023-03-22T02:33:27.014619Z",
     "iopub.status.idle": "2023-03-22T02:33:27.389496Z",
     "shell.execute_reply": "2023-03-22T02:33:27.387694Z"
    },
    "papermill": {
     "duration": 0.387467,
     "end_time": "2023-03-22T02:33:27.391965",
     "exception": false,
     "start_time": "2023-03-22T02:33:27.004498",
     "status": "completed"
    },
    "tags": []
   },
   "outputs": [
    {
     "name": "stderr",
     "output_type": "stream",
     "text": [
      "\u001b[1m\u001b[22m`summarise()` has grouped output by 'member_casual'. You can override using the\n",
      "`.groups` argument.\n"
     ]
    },
    {
     "data": {
      "text/html": [
       "<table class=\"dataframe\">\n",
       "<caption>A grouped_df: 14 × 4</caption>\n",
       "<thead>\n",
       "\t<tr><th scope=col>member_casual</th><th scope=col>weekday</th><th scope=col>no_of_rides</th><th scope=col>average_duration</th></tr>\n",
       "\t<tr><th scope=col>&lt;chr&gt;</th><th scope=col>&lt;ord&gt;</th><th scope=col>&lt;int&gt;</th><th scope=col>&lt;dbl&gt;</th></tr>\n",
       "</thead>\n",
       "<tbody>\n",
       "\t<tr><td>casual</td><td>Sunday   </td><td>389011</td><td>2043.4767</td></tr>\n",
       "\t<tr><td>casual</td><td>Monday   </td><td>277671</td><td>1751.2417</td></tr>\n",
       "\t<tr><td>casual</td><td>Tuesday  </td><td>263731</td><td>1549.3721</td></tr>\n",
       "\t<tr><td>casual</td><td>Wednesday</td><td>274354</td><td>1485.0507</td></tr>\n",
       "\t<tr><td>casual</td><td>Thursday </td><td>309327</td><td>1532.8751</td></tr>\n",
       "\t<tr><td>casual</td><td>Friday   </td><td>334698</td><td>1682.6551</td></tr>\n",
       "\t<tr><td>casual</td><td>Saturday </td><td>473185</td><td>1956.8451</td></tr>\n",
       "\t<tr><td>member</td><td>Sunday   </td><td>387208</td><td> 841.8746</td></tr>\n",
       "\t<tr><td>member</td><td>Monday   </td><td>473335</td><td> 736.2065</td></tr>\n",
       "\t<tr><td>member</td><td>Tuesday  </td><td>518618</td><td> 727.7694</td></tr>\n",
       "\t<tr><td>member</td><td>Wednesday</td><td>523867</td><td> 726.2934</td></tr>\n",
       "\t<tr><td>member</td><td>Thursday </td><td>532255</td><td> 737.5637</td></tr>\n",
       "\t<tr><td>member</td><td>Friday   </td><td>467083</td><td> 751.8463</td></tr>\n",
       "\t<tr><td>member</td><td>Saturday </td><td>443274</td><td> 848.4037</td></tr>\n",
       "</tbody>\n",
       "</table>\n"
      ],
      "text/latex": [
       "A grouped\\_df: 14 × 4\n",
       "\\begin{tabular}{llll}\n",
       " member\\_casual & weekday & no\\_of\\_rides & average\\_duration\\\\\n",
       " <chr> & <ord> & <int> & <dbl>\\\\\n",
       "\\hline\n",
       "\t casual & Sunday    & 389011 & 2043.4767\\\\\n",
       "\t casual & Monday    & 277671 & 1751.2417\\\\\n",
       "\t casual & Tuesday   & 263731 & 1549.3721\\\\\n",
       "\t casual & Wednesday & 274354 & 1485.0507\\\\\n",
       "\t casual & Thursday  & 309327 & 1532.8751\\\\\n",
       "\t casual & Friday    & 334698 & 1682.6551\\\\\n",
       "\t casual & Saturday  & 473185 & 1956.8451\\\\\n",
       "\t member & Sunday    & 387208 &  841.8746\\\\\n",
       "\t member & Monday    & 473335 &  736.2065\\\\\n",
       "\t member & Tuesday   & 518618 &  727.7694\\\\\n",
       "\t member & Wednesday & 523867 &  726.2934\\\\\n",
       "\t member & Thursday  & 532255 &  737.5637\\\\\n",
       "\t member & Friday    & 467083 &  751.8463\\\\\n",
       "\t member & Saturday  & 443274 &  848.4037\\\\\n",
       "\\end{tabular}\n"
      ],
      "text/markdown": [
       "\n",
       "A grouped_df: 14 × 4\n",
       "\n",
       "| member_casual &lt;chr&gt; | weekday &lt;ord&gt; | no_of_rides &lt;int&gt; | average_duration &lt;dbl&gt; |\n",
       "|---|---|---|---|\n",
       "| casual | Sunday    | 389011 | 2043.4767 |\n",
       "| casual | Monday    | 277671 | 1751.2417 |\n",
       "| casual | Tuesday   | 263731 | 1549.3721 |\n",
       "| casual | Wednesday | 274354 | 1485.0507 |\n",
       "| casual | Thursday  | 309327 | 1532.8751 |\n",
       "| casual | Friday    | 334698 | 1682.6551 |\n",
       "| casual | Saturday  | 473185 | 1956.8451 |\n",
       "| member | Sunday    | 387208 |  841.8746 |\n",
       "| member | Monday    | 473335 |  736.2065 |\n",
       "| member | Tuesday   | 518618 |  727.7694 |\n",
       "| member | Wednesday | 523867 |  726.2934 |\n",
       "| member | Thursday  | 532255 |  737.5637 |\n",
       "| member | Friday    | 467083 |  751.8463 |\n",
       "| member | Saturday  | 443274 |  848.4037 |\n",
       "\n"
      ],
      "text/plain": [
       "   member_casual weekday   no_of_rides average_duration\n",
       "1  casual        Sunday    389011      2043.4767       \n",
       "2  casual        Monday    277671      1751.2417       \n",
       "3  casual        Tuesday   263731      1549.3721       \n",
       "4  casual        Wednesday 274354      1485.0507       \n",
       "5  casual        Thursday  309327      1532.8751       \n",
       "6  casual        Friday    334698      1682.6551       \n",
       "7  casual        Saturday  473185      1956.8451       \n",
       "8  member        Sunday    387208       841.8746       \n",
       "9  member        Monday    473335       736.2065       \n",
       "10 member        Tuesday   518618       727.7694       \n",
       "11 member        Wednesday 523867       726.2934       \n",
       "12 member        Thursday  532255       737.5637       \n",
       "13 member        Friday    467083       751.8463       \n",
       "14 member        Saturday  443274       848.4037       "
      ]
     },
     "metadata": {},
     "output_type": "display_data"
    }
   ],
   "source": [
    "trip_2022 %>% group_by(member_casual, weekday) %>% \n",
    "  summarise(no_of_rides = n(),average_duration = mean(trip_duraion_num))"
   ]
  },
  {
   "cell_type": "markdown",
   "id": "00b3e0f1",
   "metadata": {
    "papermill": {
     "duration": 0.00847,
     "end_time": "2023-03-22T02:33:27.409061",
     "exception": false,
     "start_time": "2023-03-22T02:33:27.400591",
     "status": "completed"
    },
    "tags": []
   },
   "source": [
    "**Plotting the data in R for visualization of the findings.**"
   ]
  },
  {
   "cell_type": "code",
   "execution_count": 11,
   "id": "dd225820",
   "metadata": {
    "execution": {
     "iopub.execute_input": "2023-03-22T02:33:27.429501Z",
     "iopub.status.busy": "2023-03-22T02:33:27.427940Z",
     "iopub.status.idle": "2023-03-22T02:33:29.030615Z",
     "shell.execute_reply": "2023-03-22T02:33:29.028694Z"
    },
    "papermill": {
     "duration": 1.615826,
     "end_time": "2023-03-22T02:33:29.033356",
     "exception": false,
     "start_time": "2023-03-22T02:33:27.417530",
     "status": "completed"
    },
    "tags": []
   },
   "outputs": [
    {
     "name": "stderr",
     "output_type": "stream",
     "text": [
      "\u001b[1m\u001b[22m`summarise()` has grouped output by 'member_casual'. You can override using the\n",
      "`.groups` argument.\n",
      "\u001b[1m\u001b[22m`summarise()` has grouped output by 'member_casual'. You can override using the\n",
      "`.groups` argument.\n"
     ]
    },
    {
     "data": {
      "image/png": "iVBORw0KGgoAAAANSUhEUgAAA0gAAANICAIAAAByhViMAAAABmJLR0QA/wD/AP+gvaeTAAAg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\nX0kAAAAASUVORK5CYII="
     },
     "metadata": {
      "image/png": {
       "height": 420,
       "width": 420
      }
     },
     "output_type": "display_data"
    },
    {
     "data": {
      "image/png": "iVBORw0KGgoAAAANSUhEUgAAA0gAAANICAIAAAByhViMAAAABmJLR0QA/wD/AP+gvaeTAAAg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\nRU5ErkJggg=="
     },
     "metadata": {
      "image/png": {
       "height": 420,
       "width": 420
      }
     },
     "output_type": "display_data"
    }
   ],
   "source": [
    "setwd('/kaggle/working') #for changing back the working directory \n",
    "\n",
    "trip_2022 %>% group_by(member_casual, weekday) %>% \n",
    "  summarise(no_of_rides = n(),average_duration = mean(trip_duraion_num)) %>% \n",
    "  ggplot(aes(x = weekday,y = no_of_rides, fill=member_casual)) + geom_col(position = \"dodge\")\n",
    "\n",
    "trip_2022 %>% group_by(member_casual, weekday) %>% \n",
    "  summarise(no_of_rides = n(),average_duration = mean(trip_duraion_num)) %>% \n",
    "  ggplot(aes(x=weekday,y=average_duration, fill=member_casual))+geom_col(position = \"dodge\")"
   ]
  },
  {
   "cell_type": "markdown",
   "id": "0c2e4d65",
   "metadata": {
    "papermill": {
     "duration": 0.009614,
     "end_time": "2023-03-22T02:33:29.052754",
     "exception": false,
     "start_time": "2023-03-22T02:33:29.043140",
     "status": "completed"
    },
    "tags": []
   },
   "source": [
    "After the initial exploration of the data, I have exported the cleaned data \"trip_2022\" for further analysis in Tableau into a csv file.\n",
    "\n",
    "For Interactive Visualization of the **Tableau link-[Click Here](https://public.tableau.com/views/ProjectCyclisticsIncomplete/Project-Descriptiveanalysis?:language=en-US&:display_count=n&:origin=viz_share_link)**.This will take you to Tableau Public website. I have also embedded the static version of the dashboard here."
   ]
  },
  {
   "cell_type": "markdown",
   "id": "148d5c17",
   "metadata": {
    "execution": {
     "iopub.execute_input": "2023-02-15T06:48:39.264543Z",
     "iopub.status.busy": "2023-02-15T06:48:39.263002Z",
     "iopub.status.idle": "2023-02-15T06:48:39.277158Z"
    },
    "papermill": {
     "duration": 0.009801,
     "end_time": "2023-03-22T02:33:29.072210",
     "exception": false,
     "start_time": "2023-03-22T02:33:29.062409",
     "status": "completed"
    },
    "tags": []
   },
   
  {
   "cell_type": "markdown",
   "id": "fe397203",
   "metadata": {
    "papermill": {
     "duration": 0.010183,
     "end_time": "2023-03-22T02:33:29.092076",
     "exception": false,
     "start_time": "2023-03-22T02:33:29.081893",
     "status": "completed"
    },
    "tags": []
   },
   "source": [
    "<a id =\"section6\"></a>\n",
    "# Findings and Insights\n",
    "Based on the analysis, We can infer the below findings and insights\n",
    "* The number of member rides are 10% more than the casual riders.\n",
    "* We can also see that the rides increase in first and second quater.Then reaches peak at third quater after which it started to decrease.\n",
    "* Causal riders take longest time for each trip \n",
    "* Casual riders peak on Saturday and Sunday\n",
    "* Top station with high number of riders differs for each rider type.\n",
    "\n",
    "**Recommendation for the company:**\n",
    "1. The company can focus on particular station where casual riders are high for Marketing Campaign. This can also help to measure the success of the Marketing Campaign.\n",
    "2. The company can give offers for annual members who rides beyond a set limit of duration which is beneficial for casual members.Also offer differetiated Annual membership such as Quick trip membership and Long trips Memberships.\n",
    "3. They can also give various Promotional offers for Weekend Annual membership riders.\n",
    "\n"
   ]
  }
 ],
 "metadata": {
  "kernelspec": {
   "display_name": "R",
   "language": "R",
   "name": "ir"
  },
  "language_info": {
   "codemirror_mode": "r",
   "file_extension": ".r",
   "mimetype": "text/x-r-source",
   "name": "R",
   "pygments_lexer": "r",
   "version": "4.0.5"
  },
  "papermill": {
   "default_parameters": {},
   "duration": 81.063177,
   "end_time": "2023-03-22T02:33:29.427257",
   "environment_variables": {},
   "exception": null,
   "input_path": "__notebook__.ipynb",
   "output_path": "__notebook__.ipynb",
   "parameters": {},
   "start_time": "2023-03-22T02:32:08.364080",
   "version": "2.4.0"
  }
 },
 "nbformat": 4,
 "nbformat_minor": 5
}
